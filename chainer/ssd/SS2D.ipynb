{
 "cells": [
  {
   "cell_type": "code",
   "execution_count": 5,
   "metadata": {},
   "outputs": [],
   "source": [
    "import argparse\n",
    "import copy\n",
    "import numpy as np\n",
    "\n",
    "import chainer\n",
    "from chainer.datasets import ConcatenatedDataset\n",
    "from chainer.datasets import TransformDataset\n",
    "from chainer.optimizer_hooks import WeightDecay\n",
    "from chainer import serializers\n",
    "from chainer import training\n",
    "from chainer.training import extensions\n",
    "from chainer.training import triggers\n",
    "\n",
    "from chainercv.datasets import voc_bbox_label_names\n",
    "from chainercv.extensions import DetectionVOCEvaluator\n",
    "from chainercv.links.model.ssd import GradientScaling\n",
    "from chainercv.links.model.ssd import multibox_loss\n",
    "from chainercv.links import SSD300\n",
    "from chainercv.links import SSD512\n",
    "from chainercv import transforms\n",
    "\n",
    "from chainercv.links.model.ssd import random_crop_with_bbox_constraints\n",
    "from chainercv.links.model.ssd import random_distort\n",
    "from chainercv.links.model.ssd import resize_with_random_interpolation\n",
    "from chainercv.chainer_experimental.datasets.sliceable import SliceableDataset\n"
   ]
  },
  {
   "cell_type": "code",
   "execution_count": 14,
   "metadata": {},
   "outputs": [],
   "source": [
    "import numpy as np\n",
    "import os\n",
    "import warnings\n",
    "import xml.etree.ElementTree as ET\n",
    "\n",
    "from chainercv.chainer_experimental.datasets.sliceable import GetterDataset\n",
    "from chainercv.datasets.voc import voc_utils\n",
    "from chainercv.utils import read_image\n",
    "class SS2DBboxDataset(GetterDataset):\n",
    "\n",
    "    \"\"\"Bounding box dataset for PASCAL `VOC`_.\n",
    "\n",
    "    .. _`VOC`: http://host.robots.ox.ac.uk/pascal/VOC/voc2012/\n",
    "\n",
    "    Args:\n",
    "        data_dir (string): Path to the root of the training data. If this is\n",
    "            :obj:`auto`, this class will automatically download data for you\n",
    "            under :obj:`$CHAINER_DATASET_ROOT/pfnet/chainercv/voc`.\n",
    "        split ({'train', 'val', 'trainval', 'test'}): Select a split of the\n",
    "            dataset. :obj:`test` split is only available for\n",
    "            2007 dataset.\n",
    "        year ({'2007', '2012'}): Use a dataset prepared for a challenge\n",
    "            held in :obj:`year`.\n",
    "        use_difficult (bool): If :obj:`True`, use images that are labeled as\n",
    "            difficult in the original annotation.\n",
    "        return_difficult (bool): If :obj:`True`, this dataset returns\n",
    "            a boolean array\n",
    "            that indicates whether bounding boxes are labeled as difficult\n",
    "            or not. The default value is :obj:`False`.\n",
    "\n",
    "    This dataset returns the following data.\n",
    "\n",
    "    .. csv-table::\n",
    "        :header: name, shape, dtype, format\n",
    "\n",
    "        :obj:`img`, \":math:`(3, H, W)`\", :obj:`float32`, \\\n",
    "        \"RGB, :math:`[0, 255]`\"\n",
    "        :obj:`bbox` [#voc_bbox_1]_, \":math:`(R, 4)`\", :obj:`float32`, \\\n",
    "        \":math:`(y_{min}, x_{min}, y_{max}, x_{max})`\"\n",
    "        :obj:`label` [#voc_bbox_1]_, \":math:`(R,)`\", :obj:`int32`, \\\n",
    "        \":math:`[0, \\#fg\\_class - 1]`\"\n",
    "        :obj:`difficult` (optional [#voc_bbox_2]_), \":math:`(R,)`\", \\\n",
    "        :obj:`bool`, --\n",
    "\n",
    "    .. [#voc_bbox_1] If :obj:`use_difficult = True`, \\\n",
    "        :obj:`bbox` and :obj:`label` contain difficult instances.\n",
    "    .. [#voc_bbox_2] :obj:`difficult` is available \\\n",
    "        if :obj:`return_difficult = True`.\n",
    "    \"\"\"\n",
    "\n",
    "    def __init__(self, data_dir='auto', split='train',\n",
    "                 use_difficult=False, return_difficult=False):\n",
    "        super(VOCBboxDataset, self).__init__()\n",
    "        \n",
    "        id_list_file = os.path.join(\n",
    "            data_dir, 'Ids/{0}.txt'.format(split))\n",
    "        \n",
    "        self.ids = [id_.strip() for id_ in open(id_list_file)]\n",
    "\n",
    "        self.data_dir = data_dir\n",
    "        self.use_difficult = use_difficult\n",
    "\n",
    "        self.add_getter('img', self._get_image)\n",
    "        self.add_getter(('bbox', 'label', 'difficult'), self._get_annotations)\n",
    "\n",
    "        if not return_difficult:\n",
    "            self.keys = ('img', 'bbox', 'label')\n",
    "\n",
    "    def __len__(self):\n",
    "        return len(self.ids)\n",
    "\n",
    "    def _get_image(self, i):\n",
    "        id_ = self.ids[i]\n",
    "        img_path = os.path.join(self.data_dir, 'JPEGImages', id_ + '.jpg')\n",
    "        img = read_image(img_path, color=True)\n",
    "        return img\n",
    "\n",
    "    def _get_annotations(self, i):\n",
    "        id_ = self.ids[i]\n",
    "        anno = ET.parse(\n",
    "            os.path.join(self.data_dir, 'Annotations', id_ + '.xml'))\n",
    "        bbox = []\n",
    "        label = []\n",
    "        difficult = []\n",
    "        for obj in anno.findall('object'):\n",
    "            # when in not using difficult split, and the object is\n",
    "            # difficult, skipt it.\n",
    "            if not self.use_difficult and int(obj.find('difficult').text) == 1:\n",
    "                continue\n",
    "\n",
    "            difficult.append(int(obj.find('difficult').text))\n",
    "            bndbox_anno = obj.find('bndbox')\n",
    "            # subtract 1 to make pixel indexes 0-based\n",
    "            bbox.append([\n",
    "                int(bndbox_anno.find(tag).text) - 1\n",
    "                for tag in ('ymin', 'xmin', 'ymax', 'xmax')])\n",
    "            name = obj.find('name').text.lower().strip()\n",
    "            label.append(voc_utils.voc_bbox_label_names.index(name))\n",
    "        bbox = np.stack(bbox).astype(np.float32)\n",
    "        label = np.stack(label).astype(np.int32)\n",
    "        # When `use_difficult==False`, all elements in `difficult` are False.\n",
    "        difficult = np.array(difficult, dtype=np.bool)\n",
    "        return bbox, label, difficult\n"
   ]
  },
  {
   "cell_type": "code",
   "execution_count": 11,
   "metadata": {},
   "outputs": [],
   "source": [
    "a=VOCBboxDataset(data_dir=\"dataset\", split='train')"
   ]
  },
  {
   "cell_type": "code",
   "execution_count": 17,
   "metadata": {},
   "outputs": [
    {
     "name": "stderr",
     "output_type": "stream",
     "text": [
      "usage: ipykernel_launcher.py [-h] [--model {ssd300,ssd512}]\n",
      "                             [--batchsize BATCHSIZE] [--gpu GPU] [--out OUT]\n",
      "                             [--resume RESUME]\n",
      "ipykernel_launcher.py: error: unrecognized arguments: -f C:\\Users\\yusuke\\AppData\\Roaming\\jupyter\\runtime\\kernel-bf36d6b1-ed57-4a63-9c43-3bc742a8085b.json\n"
     ]
    },
    {
     "ename": "SystemExit",
     "evalue": "2",
     "output_type": "error",
     "traceback": [
      "An exception has occurred, use %tb to see the full traceback.\n",
      "\u001b[1;31mSystemExit\u001b[0m\u001b[1;31m:\u001b[0m 2\n"
     ]
    },
    {
     "name": "stderr",
     "output_type": "stream",
     "text": [
      "C:\\Users\\yusuke\\AppData\\Roaming\\Python\\Python36\\site-packages\\IPython\\core\\interactiveshell.py:2918: UserWarning: To exit: use 'exit', 'quit', or Ctrl-D.\n",
      "  warn(\"To exit: use 'exit', 'quit', or Ctrl-D.\", stacklevel=1)\n"
     ]
    }
   ],
   "source": []
  },
  {
   "cell_type": "code",
   "execution_count": null,
   "metadata": {},
   "outputs": [],
   "source": [
    "download.get_dataset_root()"
   ]
  },
  {
   "cell_type": "code",
   "execution_count": null,
   "metadata": {},
   "outputs": [],
   "source": [
    "import importlib\n",
    "importlib.reload(ss2dbbox_dataset)"
   ]
  }
 ],
 "metadata": {
  "kernelspec": {
   "display_name": "Python 3",
   "language": "python",
   "name": "python3"
  },
  "language_info": {
   "codemirror_mode": {
    "name": "ipython",
    "version": 3
   },
   "file_extension": ".py",
   "mimetype": "text/x-python",
   "name": "python",
   "nbconvert_exporter": "python",
   "pygments_lexer": "ipython3",
   "version": "3.7.1"
  }
 },
 "nbformat": 4,
 "nbformat_minor": 2
}
